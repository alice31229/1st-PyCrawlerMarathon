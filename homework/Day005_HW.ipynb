{
 "cells": [
  {
   "cell_type": "markdown",
   "metadata": {},
   "source": [
    "# API 資料串接 - 以 Dcard API 實作範例\n",
    "\n",
    "* 了解 Dcard API 使用方式與回傳內容\n",
    "* 撰寫程式存取 API 且解析 JSON 格式資料\n"
   ]
  },
  {
   "cell_type": "markdown",
   "metadata": {},
   "source": [
    "## 作業目標\n",
    "\n",
    "* 請利用 API: https://www.dcard.tw/_api/forums/pet/posts?popular=true 回答下列問題：\n",
    "\n",
    "1. 這個 API 一次會回傳幾筆資料？每一筆資料包含哪些欄位？\n",
    "2. 取出每一筆資料的「標題」、「貼文時間」、「留言人數」、「按讚人數」\n",
    "3. 計算熱門/非熱門文章的「平均留言人數」與「平均按讚人數」"
   ]
  },
  {
   "cell_type": "code",
   "execution_count": 22,
   "metadata": {},
   "outputs": [
    {
     "name": "stdout",
     "output_type": "stream",
     "text": [
      "33 dict_keys(['id', 'title', 'excerpt', 'anonymousSchool', 'anonymousDepartment', 'pinned', 'forumId', 'replyId', 'createdAt', 'updatedAt', 'commentCount', 'likeCount', 'withNickname', 'tags', 'topics', 'meta', 'forumName', 'forumAlias', 'nsfw', 'gender', 'school', 'replyTitle', 'mediaMeta', 'reactions', 'hidden', 'customStyle', 'isSuspiciousAccount', 'layout', 'withImages', 'withVideos', 'media', 'reportReasonText', 'postAvatar'])\n"
     ]
    }
   ],
   "source": [
    "# 1. 這個 API 一次會回傳幾筆資料？每一筆資料包含哪些欄位？\n",
    "import requests\n",
    "import json\n",
    "r = requests.get('https://www.dcard.tw/_api/forums/pet/posts?popular=true')\n",
    "response = r.text\n",
    "data = json.loads(response)\n",
    "\n",
    "print(len(data[0]), data[0].keys())"
   ]
  },
  {
   "cell_type": "code",
   "execution_count": 30,
   "metadata": {},
   "outputs": [
    {
     "name": "stdout",
     "output_type": "stream",
     "text": [
      "(('下雨天撿到柴犬', '2020-04-23T00:03:54.342Z', 388, 16700), ('宿舍餐廳的可愛擊敗貓', '2020-04-23T02:31:48.724Z', 44, 1465), ('誰准妳抱我的！', '2020-04-23T03:01:14.143Z', 2, 99), ('他叫阿寶，他很屁', '2020-04-23T18:23:56.182Z', 3, 71), ('認真工作的薩摩耶', '2020-04-24T04:08:39.102Z', 1, 39), ('同學你的貓好可愛！', '2020-04-23T15:03:32.879Z', 5, 37), ('我有一個中分頭', '2020-04-24T04:07:52.571Z', 2, 16), ('小貓初體驗！', '2020-04-23T16:40:25.010Z', 7, 16), ('在學校倉庫撿到的奶貓🐈🐱Part3.～最終回', '2020-04-23T16:32:25.077Z', 0, 14), ('我家胖橘貓在仰臥起坐？？', '2020-04-23T14:35:33.963Z', 2, 13), ('最近掀起兔子睡覺風🤣', '2020-04-23T04:00:03.867Z', 2, 12), ('離開的你，會不會回來？', '2020-04-23T22:05:05.245Z', 3, 11), ('正修同學 你的幼幼班貓咪！！', '2020-04-23T14:46:49.195Z', 4, 11), ('難道我是超人也要跟你說？', '2020-04-23T14:59:43.741Z', 0, 9), ('桃園人請進！八德走失狗狗', '2020-04-23T15:29:41.402Z', 0, 8), ('突然多了ㄧ隻雞寶貝', '2020-04-24T06:34:53.111Z', 0, 7), ('貓咪睡姿？（大量照）', '2020-04-24T03:52:54.560Z', 1, 7), ('貓咪打哈欠', '2020-04-23T17:38:11.843Z', 9, 7), ('寵物店似乎給錯鼠性別', '2020-04-23T07:58:56.925Z', 10, 7), ('可愛的鼠餅🐹❤️', '2020-04-23T06:51:42.502Z', 2, 7), ('結紮懶人包 優缺點整理', '2020-04-23T03:15:43.181Z', 6, 6), ('天花板裡的貓', '2020-04-24T05:33:09.274Z', 3, 4), ('守宮生病 求解 —', '2020-04-23T12:25:38.968Z', 3, 4), ('孔雀魚肚子後段紅色的！？', '2020-04-23T10:36:07.805Z', 1, 4), ('剛收編的浪浪拉肚子、便便臭，更換飼料請益', '2020-04-23T05:47:15.100Z', 7, 4), ('論我家貓咪對肉泥的執著', '2020-04-23T01:26:44.253Z', 0, 4), ('#黑特 #幫高調 萬華某寵物美容店', '2020-04-24T08:18:23.074Z', 0, 3), ('班腿樹蛙#日常分享', '2020-04-24T06:31:50.405Z', 3, 3), ('三線跟一線😵😵', '2020-04-23T20:54:30.655Z', 8, 3), ('關於球蟒', '2020-04-23T05:08:27.427Z', 14, 3))\n"
     ]
    }
   ],
   "source": [
    "# 2. 取出每一筆資料的「標題」、「貼文時間」、「留言人數」、「按讚人數」\n",
    "import requests\n",
    "import json\n",
    "r = requests.get('https://www.dcard.tw/_api/forums/pet/posts?popular=true')\n",
    "response = r.text\n",
    "data = json.loads(response)\n",
    "\n",
    "title = []\n",
    "for d in data:\n",
    "    title.append(d['title'])\n",
    "    \n",
    "createdAt = []\n",
    "for d in data:\n",
    "    createdAt.append(d['createdAt'])\n",
    "    \n",
    "commentCount = []\n",
    "for d in data:\n",
    "    commentCount.append(d['commentCount'])\n",
    "\n",
    "likeCount = []\n",
    "for d in data:\n",
    "    likeCount.append(d['likeCount'])\n",
    "\n",
    "demand = *zip(title, createdAt, commentCount, likeCount),\n",
    "print(demand)"
   ]
  },
  {
   "cell_type": "code",
   "execution_count": 3,
   "metadata": {},
   "outputs": [
    {
     "data": {
      "text/plain": [
       "'\\nYour Code\\n'"
      ]
     },
     "execution_count": 3,
     "metadata": {},
     "output_type": "execute_result"
    }
   ],
   "source": [
    "# 3. 計算熱門/非熱門文章的「平均留言人數」與「平均按讚人數」\n",
    "\n",
    "'''\n",
    "Your Code\n",
    "'''"
   ]
  },
  {
   "cell_type": "code",
   "execution_count": null,
   "metadata": {},
   "outputs": [],
   "source": []
  },
  {
   "cell_type": "code",
   "execution_count": null,
   "metadata": {},
   "outputs": [],
   "source": []
  }
 ],
 "metadata": {
  "kernelspec": {
   "display_name": "Python 3",
   "language": "python",
   "name": "python3"
  },
  "language_info": {
   "codemirror_mode": {
    "name": "ipython",
    "version": 3
   },
   "file_extension": ".py",
   "mimetype": "text/x-python",
   "name": "python",
   "nbconvert_exporter": "python",
   "pygments_lexer": "ipython3",
   "version": "3.7.6"
  }
 },
 "nbformat": 4,
 "nbformat_minor": 2
}
