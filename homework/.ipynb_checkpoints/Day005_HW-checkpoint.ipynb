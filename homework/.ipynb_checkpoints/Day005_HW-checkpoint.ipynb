{
 "cells": [
  {
   "cell_type": "markdown",
   "metadata": {},
   "source": [
    "# API 資料串接 - 以 Dcard API 實作範例\n",
    "\n",
    "* 了解 Dcard API 使用方式與回傳內容\n",
    "* 撰寫程式存取 API 且解析 JSON 格式資料\n"
   ]
  },
  {
   "cell_type": "markdown",
   "metadata": {},
   "source": [
    "## 作業目標\n",
    "\n",
    "* 請利用 API: https://www.dcard.tw/_api/forums/pet/posts?popular=true 回答下列問題：\n",
    "\n",
    "1. 這個 API 一次會回傳幾筆資料？每一筆資料包含哪些欄位？\n",
    "2. 取出每一筆資料的「標題」、「貼文時間」、「留言人數」、「按讚人數」\n",
    "3. 計算熱門/非熱門文章的「平均留言人數」與「平均按讚人數」"
   ]
  },
  {
   "cell_type": "code",
   "execution_count": 1,
   "metadata": {},
   "outputs": [
    {
     "name": "stdout",
     "output_type": "stream",
     "text": [
      "36 dict_keys(['id', 'title', 'excerpt', 'anonymousSchool', 'anonymousDepartment', 'pinned', 'forumId', 'replyId', 'createdAt', 'updatedAt', 'commentCount', 'likeCount', 'withNickname', 'tags', 'topics', 'meta', 'forumName', 'forumAlias', 'nsfw', 'gender', 'school', 'department', 'replyTitle', 'mediaMeta', 'reactions', 'hidden', 'customStyle', 'isSuspiciousAccount', 'layout', 'pinnedType', 'pinnedPriority', 'withImages', 'withVideos', 'media', 'reportReasonText', 'postAvatar'])\n"
     ]
    }
   ],
   "source": [
    "# 1. 這個 API 一次會回傳幾筆資料？每一筆資料包含哪些欄位？\n",
    "import requests\n",
    "import json\n",
    "r = requests.get('https://www.dcard.tw/_api/forums/job/posts?popular=true')\n",
    "response = r.text\n",
    "data = json.loads(response)\n",
    "\n",
    "print(len(data[0]), data[0].keys())"
   ]
  },
  {
   "cell_type": "code",
   "execution_count": 4,
   "metadata": {},
   "outputs": [
    {
     "name": "stdout",
     "output_type": "stream",
     "text": [
      "(('<請先點我> 工作板＆實習、打工職缺刊登說明', '2017-01-01T06:27:39.650Z', 39, 692), ('#徵文 快來發表你對辦公室戀情的看法！湯，母湯 你支持哪一派？', '2020-04-23T02:38:41.243Z', 160, 380), ('人生……', '2020-04-23T00:34:15.849Z', 27, 256), ('就算找工作找很久，也不要對自己失去信心', '2020-04-23T04:07:03.701Z', 16, 108), ('疫情不是失業的原因，主因在下面。', '2020-04-23T12:03:52.616Z', 8, 29), ('新人真難當', '2020-04-23T15:10:32.121Z', 16, 21), ('遠端工作到快崩潰_(´ཀ`」 ∠)_', '2020-04-23T11:13:33.621Z', 2, 21), ('推薦的職涯 IG/臉書粉專✨', '2020-04-23T05:10:13.579Z', 1, 19), ('工作沒事做', '2020-04-23T04:11:48.648Z', 10, 16), ('現在還有工作嗎...', '2020-04-23T03:35:05.101Z', 3, 15), ('即日起，開放今年應屆畢業生，免費🆓履歷健診，限額10人！！', '2020-04-23T13:42:42.345Z', 4, 13), ('面試官也可能被面試（人資觀點', '2020-04-23T12:02:34.168Z', 0, 13), ('ASML線上徵才說明會 要來囉~', '2020-04-23T05:10:33.151Z', 9, 12), ('面試後，不回信/被拒絕，哪個比較不爽（小人資疑問', '2020-04-23T18:19:24.171Z', 21, 10), ('找不到工作啦', '2020-04-23T11:06:39.852Z', 19, 10), ('龍巖特助面試心得', '2020-04-24T02:56:42.235Z', 1, 9), ('畢業後兩年沒目標 可以考什麼證照', '2020-04-23T03:15:53.286Z', 12, 9), ('對自己越來越沒信心', '2020-04-23T12:08:53.189Z', 3, 7), ('拒絕人資會被列為黑名單嗎', '2020-04-24T05:56:21.684Z', 7, 6), ('（文長）準備迎接新挑戰的我，被開除了...', '2020-04-23T19:05:04.773Z', 1, 6), ('台積電面試邀請', '2020-04-23T15:04:44.759Z', 9, 6), ('台灣之星企業接班人實習心得', '2020-04-23T12:19:54.101Z', 0, 6), ('金融保險平均薪水7萬', '2020-04-23T07:49:19.303Z', 18, 6), ('#問 面試英文考試', '2020-04-23T07:44:47.164Z', 3, 6), ('職場嚴重霸凌，竟然嚴重到要放輪胎的氣', '2020-04-23T02:18:55.507Z', 2, 6), ('應屆畢業生的未來...', '2020-04-24T07:00:55.019Z', 2, 5), ('這樣會很人厭？', '2020-04-23T16:46:15.813Z', 6, 5), ('#分享 新加坡工作', '2020-04-23T13:06:46.423Z', 12, 5), ('［徵］台北內湖行銷設計實習', '2020-04-23T12:20:57.029Z', 0, 5), ('北商的學長姐也太多可以幫忙履歷健診的了', '2020-04-23T05:46:24.622Z', 0, 5))\n"
     ]
    }
   ],
   "source": [
    "# 2. 取出每一筆資料的「標題」、「貼文時間」、「留言人數」、「按讚人數」\n",
    "import requests\n",
    "import json\n",
    "r = requests.get('https://www.dcard.tw/_api/forums/job/posts?popular=true')\n",
    "response = r.text\n",
    "data = json.loads(response)\n",
    "\n",
    "title = []\n",
    "for d in data:\n",
    "    title.append(d['title'])\n",
    "    \n",
    "createdAt = []\n",
    "for d in data:\n",
    "    createdAt.append(d['createdAt'])\n",
    "    \n",
    "commentCount = []\n",
    "for d in data:\n",
    "    commentCount.append(d['commentCount'])\n",
    "\n",
    "likeCount = []\n",
    "for d in data:\n",
    "    likeCount.append(d['likeCount'])\n",
    "\n",
    "demand = *zip(title, createdAt, commentCount, likeCount),\n",
    "print(demand)"
   ]
  },
  {
   "cell_type": "code",
   "execution_count": 2,
   "metadata": {},
   "outputs": [
    {
     "name": "stdout",
     "output_type": "stream",
     "text": [
      "13.7 56.9\n",
      "2.7 2.3333333333333335\n"
     ]
    }
   ],
   "source": [
    "# 3. 計算熱門/非熱門文章的「平均留言人數」與「平均按讚人數」\n",
    "\n",
    "commentCount = 0\n",
    "likeCount = 0\n",
    "for d in data:\n",
    "    commentCount += d['commentCount']\n",
    "    likeCount += d['likeCount']\n",
    "\n",
    "print(commentCount/len(data), likeCount/len(data))\n",
    "\n",
    "r = requests.get('https://www.dcard.tw/_api/forums/job/posts?popular=false')\n",
    "response = r.text\n",
    "data = json.loads(response)\n",
    "commentCount = 0\n",
    "likeCount = 0\n",
    "for d in data:\n",
    "    commentCount += d['commentCount']\n",
    "    likeCount += d['likeCount']\n",
    "\n",
    "print(commentCount/len(data), likeCount/len(data))\n",
    "    "
   ]
  },
  {
   "cell_type": "code",
   "execution_count": null,
   "metadata": {},
   "outputs": [],
   "source": []
  },
  {
   "cell_type": "code",
   "execution_count": null,
   "metadata": {},
   "outputs": [],
   "source": []
  }
 ],
 "metadata": {
  "kernelspec": {
   "display_name": "Python 3",
   "language": "python",
   "name": "python3"
  },
  "language_info": {
   "codemirror_mode": {
    "name": "ipython",
    "version": 3
   },
   "file_extension": ".py",
   "mimetype": "text/x-python",
   "name": "python",
   "nbconvert_exporter": "python",
   "pygments_lexer": "ipython3",
   "version": "3.7.6"
  }
 },
 "nbformat": 4,
 "nbformat_minor": 2
}
